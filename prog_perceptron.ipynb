{
 "metadata": {
  "language_info": {
   "codemirror_mode": {
    "name": "ipython",
    "version": 3
   },
   "file_extension": ".py",
   "mimetype": "text/x-python",
   "name": "python",
   "nbconvert_exporter": "python",
   "pygments_lexer": "ipython3",
   "version": "3.8.3-final"
  },
  "orig_nbformat": 2,
  "kernelspec": {
   "name": "python3",
   "display_name": "Python 3"
  }
 },
 "nbformat": 4,
 "nbformat_minor": 2,
 "cells": [
  {
   "cell_type": "code",
   "execution_count": 12,
   "metadata": {},
   "outputs": [],
   "source": [
    "from random import choices\n",
    "\n",
    "def createDataset(nrows, nvariables): \n",
    "    return [choices(range(1,10),k=nvariables) for _ in range(nrows)]\n"
   ]
  },
  {
   "cell_type": "code",
   "execution_count": 13,
   "metadata": {},
   "outputs": [],
   "source": [
    "populacao = createDataset(5,2)"
   ]
  },
  {
   "cell_type": "code",
   "execution_count": 14,
   "metadata": {},
   "outputs": [
    {
     "output_type": "execute_result",
     "data": {
      "text/plain": [
       "[[7, 2], [1, 7], [6, 5], [9, 6], [8, 4]]"
      ]
     },
     "metadata": {},
     "execution_count": 14
    }
   ],
   "source": [
    "populacao"
   ]
  },
  {
   "cell_type": "code",
   "execution_count": 54,
   "metadata": {},
   "outputs": [],
   "source": [
    "final_values = [1,0,1,0,1]\n",
    "weights = [9,5]\n",
    "b = 100"
   ]
  },
  {
   "cell_type": "code",
   "execution_count": 55,
   "metadata": {},
   "outputs": [
    {
     "output_type": "stream",
     "name": "stdout",
     "text": [
      "index: 0\npeso atual: 9 b: 100 previsao: 1\npeso atual: 5 b: 100 previsao: 1\n73\n0\n1\nindex: 1\npeso atual: 109 b: 100 previsao: -1\npeso atual: 105 b: 100 previsao: -1\n844\n1\n-1\nindex: 2\npeso atual: 9 b: 100 previsao: 1\npeso atual: 5 b: 100 previsao: 1\n79\n0\n1\nindex: 3\npeso atual: 109 b: 100 previsao: -1\npeso atual: 105 b: 100 previsao: -1\n1611\n1\n-1\nindex: 4\npeso atual: 9 b: 100 previsao: 1\npeso atual: 5 b: 100 previsao: 1\n92\n0\n1\n[109, 105]\n"
     ]
    }
   ],
   "source": [
    "for index in range(len(populacao)): \n",
    "    print('index: '+ str(index))\n",
    "    \n",
    "    nao_avanca = 0\n",
    "    while nao_avanca == 0: \n",
    "    soma_por_individuo = 0\n",
    "\n",
    "    for index_pesos in range(len(weights)): \n",
    "        soma_por_individuo += populacao[index][index_pesos]*weights[index_pesos]\n",
    "    \n",
    "    classe = 0\n",
    "    if(soma_por_individuo > b): \n",
    "        classe = 1 \n",
    "    else: \n",
    "        classe = 0\n",
    "\n",
    "    previsao = final_values[index] - classe\n",
    "    if(final_values[index] != classe):\n",
    "        nao_avanca = 0\n",
    "        for index_pesos in range(len(weights)): \n",
    "            print(\"peso atual: \"+ str(weights[index_pesos])+ \" b: \" +str(b) + \" previsao: \"+ str(previsao))\n",
    "            weights[index_pesos] = weights[index_pesos] + (b * previsao)\n",
    "    else: \n",
    "        nao_avanca = 1\n",
    "        \n",
    "    print(soma_por_individuo)\n",
    "    print(classe)\n",
    "    print(previsao)\n",
    "print(weights)"
   ]
  },
  {
   "cell_type": "code",
   "execution_count": 20,
   "metadata": {},
   "outputs": [
    {
     "output_type": "execute_result",
     "data": {
      "text/plain": [
       "5"
      ]
     },
     "metadata": {},
     "execution_count": 20
    }
   ],
   "source": [
    "len(populacao)"
   ]
  }
 ]
}